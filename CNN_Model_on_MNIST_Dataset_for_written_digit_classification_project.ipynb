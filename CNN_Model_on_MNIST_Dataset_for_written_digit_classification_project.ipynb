{
  "nbformat": 4,
  "nbformat_minor": 0,
  "metadata": {
    "colab": {
      "name": "CNN Model on MNIST Dataset for written digit classification project.ipynb",
      "provenance": [],
      "collapsed_sections": []
    },
    "kernelspec": {
      "name": "python3",
      "display_name": "Python 3"
    },
    "language_info": {
      "name": "python"
    }
  },
  "cells": [
    {
      "cell_type": "code",
      "execution_count": 3,
      "metadata": {
        "id": "BHjOsqmz00jl"
      },
      "outputs": [],
      "source": [
        "import tensorflow"
      ]
    },
    {
      "cell_type": "code",
      "source": [
        "import keras"
      ],
      "metadata": {
        "id": "5095PZ1c08DB"
      },
      "execution_count": 4,
      "outputs": []
    },
    {
      "cell_type": "code",
      "source": [
        "import keras_preprocessing"
      ],
      "metadata": {
        "id": "FSKOxvnK1FUd"
      },
      "execution_count": 5,
      "outputs": []
    },
    {
      "cell_type": "code",
      "source": [
        "from keras.datasets import mnist\n",
        "from keras.preprocessing.image import load_img, array_to_img\n",
        "from keras.utils.np_utils import to_categorical\n",
        "from keras.models import Sequential\n",
        "from keras.layers import Dense\n",
        "\n",
        "import numpy as np\n",
        "import matplotlib.pyplot as plt"
      ],
      "metadata": {
        "id": "9Koh3OMP1ORz"
      },
      "execution_count": 6,
      "outputs": []
    },
    {
      "cell_type": "code",
      "source": [
        "pip install tensorflow"
      ],
      "metadata": {
        "colab": {
          "base_uri": "https://localhost:8080/"
        },
        "id": "Y3vc_4tM1RLB",
        "outputId": "aa2b10ca-6dc2-4b28-cf32-01075c6f1f4b"
      },
      "execution_count": 5,
      "outputs": [
        {
          "output_type": "stream",
          "name": "stdout",
          "text": [
            "Looking in indexes: https://pypi.org/simple, https://us-python.pkg.dev/colab-wheels/public/simple/\n",
            "Requirement already satisfied: tensorflow in /usr/local/lib/python3.7/dist-packages (2.8.2+zzzcolab20220527125636)\n",
            "Requirement already satisfied: protobuf<3.20,>=3.9.2 in /usr/local/lib/python3.7/dist-packages (from tensorflow) (3.17.3)\n",
            "Requirement already satisfied: flatbuffers>=1.12 in /usr/local/lib/python3.7/dist-packages (from tensorflow) (2.0)\n",
            "Requirement already satisfied: absl-py>=0.4.0 in /usr/local/lib/python3.7/dist-packages (from tensorflow) (1.0.0)\n",
            "Requirement already satisfied: setuptools in /usr/local/lib/python3.7/dist-packages (from tensorflow) (57.4.0)\n",
            "Requirement already satisfied: six>=1.12.0 in /usr/local/lib/python3.7/dist-packages (from tensorflow) (1.15.0)\n",
            "Requirement already satisfied: tensorflow-estimator<2.9,>=2.8 in /usr/local/lib/python3.7/dist-packages (from tensorflow) (2.8.0)\n",
            "Requirement already satisfied: h5py>=2.9.0 in /usr/local/lib/python3.7/dist-packages (from tensorflow) (3.1.0)\n",
            "Requirement already satisfied: typing-extensions>=3.6.6 in /usr/local/lib/python3.7/dist-packages (from tensorflow) (4.2.0)\n",
            "Requirement already satisfied: keras<2.9,>=2.8.0rc0 in /usr/local/lib/python3.7/dist-packages (from tensorflow) (2.8.0)\n",
            "Requirement already satisfied: grpcio<2.0,>=1.24.3 in /usr/local/lib/python3.7/dist-packages (from tensorflow) (1.46.3)\n",
            "Requirement already satisfied: astunparse>=1.6.0 in /usr/local/lib/python3.7/dist-packages (from tensorflow) (1.6.3)\n",
            "Requirement already satisfied: wrapt>=1.11.0 in /usr/local/lib/python3.7/dist-packages (from tensorflow) (1.14.1)\n",
            "Requirement already satisfied: gast>=0.2.1 in /usr/local/lib/python3.7/dist-packages (from tensorflow) (0.5.3)\n",
            "Requirement already satisfied: termcolor>=1.1.0 in /usr/local/lib/python3.7/dist-packages (from tensorflow) (1.1.0)\n",
            "Requirement already satisfied: numpy>=1.20 in /usr/local/lib/python3.7/dist-packages (from tensorflow) (1.21.6)\n",
            "Requirement already satisfied: google-pasta>=0.1.1 in /usr/local/lib/python3.7/dist-packages (from tensorflow) (0.2.0)\n",
            "Requirement already satisfied: opt-einsum>=2.3.2 in /usr/local/lib/python3.7/dist-packages (from tensorflow) (3.3.0)\n",
            "Requirement already satisfied: keras-preprocessing>=1.1.1 in /usr/local/lib/python3.7/dist-packages (from tensorflow) (1.1.2)\n",
            "Requirement already satisfied: tensorboard<2.9,>=2.8 in /usr/local/lib/python3.7/dist-packages (from tensorflow) (2.8.0)\n",
            "Requirement already satisfied: libclang>=9.0.1 in /usr/local/lib/python3.7/dist-packages (from tensorflow) (14.0.1)\n",
            "Requirement already satisfied: tensorflow-io-gcs-filesystem>=0.23.1 in /usr/local/lib/python3.7/dist-packages (from tensorflow) (0.26.0)\n",
            "Requirement already satisfied: wheel<1.0,>=0.23.0 in /usr/local/lib/python3.7/dist-packages (from astunparse>=1.6.0->tensorflow) (0.37.1)\n",
            "Requirement already satisfied: cached-property in /usr/local/lib/python3.7/dist-packages (from h5py>=2.9.0->tensorflow) (1.5.2)\n",
            "Requirement already satisfied: tensorboard-data-server<0.7.0,>=0.6.0 in /usr/local/lib/python3.7/dist-packages (from tensorboard<2.9,>=2.8->tensorflow) (0.6.1)\n",
            "Requirement already satisfied: google-auth<3,>=1.6.3 in /usr/local/lib/python3.7/dist-packages (from tensorboard<2.9,>=2.8->tensorflow) (1.35.0)\n",
            "Requirement already satisfied: google-auth-oauthlib<0.5,>=0.4.1 in /usr/local/lib/python3.7/dist-packages (from tensorboard<2.9,>=2.8->tensorflow) (0.4.6)\n",
            "Requirement already satisfied: tensorboard-plugin-wit>=1.6.0 in /usr/local/lib/python3.7/dist-packages (from tensorboard<2.9,>=2.8->tensorflow) (1.8.1)\n",
            "Requirement already satisfied: markdown>=2.6.8 in /usr/local/lib/python3.7/dist-packages (from tensorboard<2.9,>=2.8->tensorflow) (3.3.7)\n",
            "Requirement already satisfied: werkzeug>=0.11.15 in /usr/local/lib/python3.7/dist-packages (from tensorboard<2.9,>=2.8->tensorflow) (1.0.1)\n",
            "Requirement already satisfied: requests<3,>=2.21.0 in /usr/local/lib/python3.7/dist-packages (from tensorboard<2.9,>=2.8->tensorflow) (2.23.0)\n",
            "Requirement already satisfied: cachetools<5.0,>=2.0.0 in /usr/local/lib/python3.7/dist-packages (from google-auth<3,>=1.6.3->tensorboard<2.9,>=2.8->tensorflow) (4.2.4)\n",
            "Requirement already satisfied: rsa<5,>=3.1.4 in /usr/local/lib/python3.7/dist-packages (from google-auth<3,>=1.6.3->tensorboard<2.9,>=2.8->tensorflow) (4.8)\n",
            "Requirement already satisfied: pyasn1-modules>=0.2.1 in /usr/local/lib/python3.7/dist-packages (from google-auth<3,>=1.6.3->tensorboard<2.9,>=2.8->tensorflow) (0.2.8)\n",
            "Requirement already satisfied: requests-oauthlib>=0.7.0 in /usr/local/lib/python3.7/dist-packages (from google-auth-oauthlib<0.5,>=0.4.1->tensorboard<2.9,>=2.8->tensorflow) (1.3.1)\n",
            "Requirement already satisfied: importlib-metadata>=4.4 in /usr/local/lib/python3.7/dist-packages (from markdown>=2.6.8->tensorboard<2.9,>=2.8->tensorflow) (4.11.4)\n",
            "Requirement already satisfied: zipp>=0.5 in /usr/local/lib/python3.7/dist-packages (from importlib-metadata>=4.4->markdown>=2.6.8->tensorboard<2.9,>=2.8->tensorflow) (3.8.0)\n",
            "Requirement already satisfied: pyasn1<0.5.0,>=0.4.6 in /usr/local/lib/python3.7/dist-packages (from pyasn1-modules>=0.2.1->google-auth<3,>=1.6.3->tensorboard<2.9,>=2.8->tensorflow) (0.4.8)\n",
            "Requirement already satisfied: urllib3!=1.25.0,!=1.25.1,<1.26,>=1.21.1 in /usr/local/lib/python3.7/dist-packages (from requests<3,>=2.21.0->tensorboard<2.9,>=2.8->tensorflow) (1.24.3)\n",
            "Requirement already satisfied: certifi>=2017.4.17 in /usr/local/lib/python3.7/dist-packages (from requests<3,>=2.21.0->tensorboard<2.9,>=2.8->tensorflow) (2022.5.18.1)\n",
            "Requirement already satisfied: chardet<4,>=3.0.2 in /usr/local/lib/python3.7/dist-packages (from requests<3,>=2.21.0->tensorboard<2.9,>=2.8->tensorflow) (3.0.4)\n",
            "Requirement already satisfied: idna<3,>=2.5 in /usr/local/lib/python3.7/dist-packages (from requests<3,>=2.21.0->tensorboard<2.9,>=2.8->tensorflow) (2.10)\n",
            "Requirement already satisfied: oauthlib>=3.0.0 in /usr/local/lib/python3.7/dist-packages (from requests-oauthlib>=0.7.0->google-auth-oauthlib<0.5,>=0.4.1->tensorboard<2.9,>=2.8->tensorflow) (3.2.0)\n"
          ]
        }
      ]
    },
    {
      "cell_type": "code",
      "source": [
        "# Load the data\n",
        "\n",
        "(X_train, y_train), (X_test, y_test)=mnist.load_data()"
      ],
      "metadata": {
        "id": "1e6Dq5yq1aJO"
      },
      "execution_count": 8,
      "outputs": []
    },
    {
      "cell_type": "code",
      "source": [
        "print(X_train.shape)\n",
        "print(y_train.shape)\n",
        "print(X_test.shape)\n",
        "print(y_test.shape)"
      ],
      "metadata": {
        "colab": {
          "base_uri": "https://localhost:8080/"
        },
        "id": "LAeIVBsx1uTL",
        "outputId": "c5558213-e6db-42ae-d8d9-387b3f0f0e6c"
      },
      "execution_count": 9,
      "outputs": [
        {
          "output_type": "stream",
          "name": "stdout",
          "text": [
            "(60000, 28, 28)\n",
            "(60000,)\n",
            "(10000, 28, 28)\n",
            "(10000,)\n"
          ]
        }
      ]
    },
    {
      "cell_type": "code",
      "source": [
        "X_train[5].shape"
      ],
      "metadata": {
        "colab": {
          "base_uri": "https://localhost:8080/"
        },
        "id": "lL6rFop21_d2",
        "outputId": "dc1e2acb-7dc3-421d-cc04-abd126c9a877"
      },
      "execution_count": 10,
      "outputs": [
        {
          "output_type": "execute_result",
          "data": {
            "text/plain": [
              "(28, 28)"
            ]
          },
          "metadata": {},
          "execution_count": 10
        }
      ]
    },
    {
      "cell_type": "code",
      "source": [
        "plt.imshow(X_train[5],cmap=\"gray\")"
      ],
      "metadata": {
        "colab": {
          "base_uri": "https://localhost:8080/",
          "height": 282
        },
        "id": "8Xh6knYk2Bvb",
        "outputId": "7692ac80-cf55-42d3-ac41-07d277792776"
      },
      "execution_count": 11,
      "outputs": [
        {
          "output_type": "execute_result",
          "data": {
            "text/plain": [
              "<matplotlib.image.AxesImage at 0x7f93a6f2dcd0>"
            ]
          },
          "metadata": {},
          "execution_count": 11
        },
        {
          "output_type": "display_data",
          "data": {
            "text/plain": [
              "<Figure size 432x288 with 1 Axes>"
            ],
            "image/png": "[encoded data removed]"
          },
          "metadata": {
            "needs_background": "light"
          }
        }
      ]
    },
    {
      "cell_type": "code",
      "source": [
        "y_train[5]"
      ],
      "metadata": {
        "colab": {
          "base_uri": "https://localhost:8080/"
        },
        "id": "zmYyQhjB4ZcK",
        "outputId": "9659158f-a51d-484c-fe0f-a6365803b11e"
      },
      "execution_count": 12,
      "outputs": [
        {
          "output_type": "execute_result",
          "data": {
            "text/plain": [
              "2"
            ]
          },
          "metadata": {},
          "execution_count": 12
        }
      ]
    },
    {
      "cell_type": "code",
      "source": [
        "image_height, image_width= 28,28\n",
        "#pre process img data"
      ],
      "metadata": {
        "id": "3Od54j8i4ZeW"
      },
      "execution_count": 13,
      "outputs": []
    },
    {
      "cell_type": "code",
      "source": [
        "X_train= X_train.reshape(60000, image_height*image_width)\n",
        "X_test= X_test.reshape(10000, image_height*image_width)\n",
        "\n",
        "print(X_train.shape)\n",
        "print(X_test.shape)"
      ],
      "metadata": {
        "colab": {
          "base_uri": "https://localhost:8080/"
        },
        "id": "76KawGMW4Zgs",
        "outputId": "07046eb6-9cc5-4cb8-a822-86eaea98ffb0"
      },
      "execution_count": 14,
      "outputs": [
        {
          "output_type": "stream",
          "name": "stdout",
          "text": [
            "(60000, 784)\n",
            "(10000, 784)\n"
          ]
        }
      ]
    },
    {
      "cell_type": "code",
      "source": [
        "print(X_train[5])\n",
        "X_train= X_train.astype('float32')\n",
        "X_test= X_test.astype('float32')"
      ],
      "metadata": {
        "colab": {
          "base_uri": "https://localhost:8080/"
        },
        "id": "0CKNkoE24ZkA",
        "outputId": "82fbcb3f-4a5e-4783-d22a-0bff473e8eb0"
      },
      "execution_count": 15,
      "outputs": [
        {
          "output_type": "stream",
          "name": "stdout",
          "text": [
            "[  0   0   0   0   0   0   0   0   0   0   0   0   0   0   0   0   0   0\n",
            "   0   0   0   0   0   0   0   0   0   0   0   0   0   0   0   0   0   0\n",
            "   0   0   0   0   0   0   0   0   0   0   0   0   0   0   0   0   0   0\n",
            "   0   0   0   0   0   0   0   0   0   0   0   0   0   0   0   0   0   0\n",
            "   0   0   0   0   0   0   0   0   0   0   0   0   0   0   0   0   0   0\n",
            "   0   0   0   0   0   0   0   0   0   0   0   0   0   0   0   0   0   0\n",
            "   0   0   0   0   0   0   0   0   0   0   0   0   0   0   0   0   0   0\n",
            "   0   0   0   0   0   0   0   0   0   0   0   0   0   0   0   0   0   0\n",
            "   0   0   0   0   0   0   0   0   0   0   0  13  25 100 122   7   0   0\n",
            "   0   0   0   0   0   0   0   0   0   0   0   0   0   0   0   0   0   0\n",
            "   0  33 151 208 252 252 252 146   0   0   0   0   0   0   0   0   0   0\n",
            "   0   0   0   0   0   0   0   0   0  40 152 244 252 253 224 211 252 232\n",
            "  40   0   0   0   0   0   0   0   0   0   0   0   0   0   0   0   0  15\n",
            " 152 239 252 252 252 216  31  37 252 252  60   0   0   0   0   0   0   0\n",
            "   0   0   0   0   0   0   0   0   0  96 252 252 252 252 217  29   0  37\n",
            " 252 252  60   0   0   0   0   0   0   0   0   0   0   0   0   0   0   0\n",
            "   0 181 252 252 220 167  30   0   0  77 252 252  60   0   0   0   0   0\n",
            "   0   0   0   0   0   0   0   0   0   0   0  26 128  58  22   0   0   0\n",
            "   0 100 252 252  60   0   0   0   0   0   0   0   0   0   0   0   0   0\n",
            "   0   0   0   0   0   0   0   0   0   0   0 157 252 252  60   0   0   0\n",
            "   0   0   0   0   0   0   0   0   0   0   0   0   0   0   0   0   0 110\n",
            " 121 122 121 202 252 194   3   0   0   0   0   0   0   0   0   0   0   0\n",
            "   0   0   0   0   0   0  10  53 179 253 253 255 253 253 228  35   0   0\n",
            "   0   0   0   0   0   0   0   0   0   0   0   0   0   0   5  54 227 252\n",
            " 243 228 170 242 252 252 231 117   6   0   0   0   0   0   0   0   0   0\n",
            "   0   0   0   0   0   6  78 252 252 125  59   0  18 208 252 252 252 252\n",
            "  87   7   0   0   0   0   0   0   0   0   0   0   0   0   5 135 252 252\n",
            " 180  16   0  21 203 253 247 129 173 252 252 184  66  49  49   0   0   0\n",
            "   0   0   0   0   0   3 136 252 241 106  17   0  53 200 252 216  65   0\n",
            "  14  72 163 241 252 252 223   0   0   0   0   0   0   0   0 105 252 242\n",
            "  88  18  73 170 244 252 126  29   0   0   0   0   0  89 180 180  37   0\n",
            "   0   0   0   0   0   0   0 231 252 245 205 216 252 252 252 124   3   0\n",
            "   0   0   0   0   0   0   0   0   0   0   0   0   0   0   0   0   0 207\n",
            " 252 252 252 252 178 116  36   4   0   0   0   0   0   0   0   0   0   0\n",
            "   0   0   0   0   0   0   0   0   0  13  93 143 121  23   6   0   0   0\n",
            "   0   0   0   0   0   0   0   0   0   0   0   0   0   0   0   0   0   0\n",
            "   0   0   0   0   0   0   0   0   0   0   0   0   0   0   0   0   0   0\n",
            "   0   0   0   0   0   0   0   0   0   0   0   0   0   0   0   0   0   0\n",
            "   0   0   0   0   0   0   0   0   0   0   0   0   0   0   0   0   0   0\n",
            "   0   0   0   0   0   0   0   0   0   0   0   0   0   0   0   0   0   0\n",
            "   0   0   0   0   0   0   0   0   0   0   0   0   0   0   0   0   0   0\n",
            "   0   0   0   0   0   0   0   0   0   0   0   0   0   0   0   0   0   0\n",
            "   0   0   0   0   0   0   0   0   0   0   0   0   0   0   0   0   0   0\n",
            "   0   0   0   0   0   0   0   0   0   0]\n"
          ]
        }
      ]
    },
    {
      "cell_type": "code",
      "source": [
        "X_train/=255.0\n",
        "X_test/=255.0\n",
        "print(X_train[5])"
      ],
      "metadata": {
        "colab": {
          "base_uri": "https://localhost:8080/"
        },
        "id": "9fHdDqqk4sMs",
        "outputId": "3019dbcb-5d24-4608-d6fa-dbf2d31b8df1"
      },
      "execution_count": 16,
      "outputs": [
        {
          "output_type": "stream",
          "name": "stdout",
          "text": [
            "[0.         0.         0.         0.         0.         0.\n",
            " 0.         0.         0.         0.         0.         0.\n",
            " 0.         0.         0.         0.         0.         0.\n",
            " 0.         0.         0.         0.         0.         0.\n",
            " 0.         0.         0.         0.         0.         0.\n",
            " 0.         0.         0.         0.         0.         0.\n",
            " 0.         0.         0.         0.         0.         0.\n",
            " 0.         0.         0.         0.         0.         0.\n",
            " 0.         0.         0.         0.         0.         0.\n",
            " 0.         0.         0.         0.         0.         0.\n",
            " 0.         0.         0.         0.         0.         0.\n",
            " 0.         0.         0.         0.         0.         0.\n",
            " 0.         0.         0.         0.         0.         0.\n",
            " 0.         0.         0.         0.         0.         0.\n",
            " 0.         0.         0.         0.         0.         0.\n",
            " 0.         0.         0.         0.         0.         0.\n",
            " 0.         0.         0.         0.         0.         0.\n",
            " 0.         0.         0.         0.         0.         0.\n",
            " 0.         0.         0.         0.         0.         0.\n",
            " 0.         0.         0.         0.         0.         0.\n",
            " 0.         0.         0.         0.         0.         0.\n",
            " 0.         0.         0.         0.         0.         0.\n",
            " 0.         0.         0.         0.         0.         0.\n",
            " 0.         0.         0.         0.         0.         0.\n",
            " 0.         0.         0.         0.         0.         0.\n",
            " 0.         0.         0.         0.         0.         0.05098039\n",
            " 0.09803922 0.39215687 0.47843137 0.02745098 0.         0.\n",
            " 0.         0.         0.         0.         0.         0.\n",
            " 0.         0.         0.         0.         0.         0.\n",
            " 0.         0.         0.         0.         0.         0.\n",
            " 0.         0.12941177 0.5921569  0.8156863  0.9882353  0.9882353\n",
            " 0.9882353  0.57254905 0.         0.         0.         0.\n",
            " 0.         0.         0.         0.         0.         0.\n",
            " 0.         0.         0.         0.         0.         0.\n",
            " 0.         0.         0.         0.15686275 0.59607846 0.95686275\n",
            " 0.9882353  0.99215686 0.8784314  0.827451   0.9882353  0.9098039\n",
            " 0.15686275 0.         0.         0.         0.         0.\n",
            " 0.         0.         0.         0.         0.         0.\n",
            " 0.         0.         0.         0.         0.         0.05882353\n",
            " 0.59607846 0.9372549  0.9882353  0.9882353  0.9882353  0.84705883\n",
            " 0.12156863 0.14509805 0.9882353  0.9882353  0.23529412 0.\n",
            " 0.         0.         0.         0.         0.         0.\n",
            " 0.         0.         0.         0.         0.         0.\n",
            " 0.         0.         0.         0.3764706  0.9882353  0.9882353\n",
            " 0.9882353  0.9882353  0.8509804  0.11372549 0.         0.14509805\n",
            " 0.9882353  0.9882353  0.23529412 0.         0.         0.\n",
            " 0.         0.         0.         0.         0.         0.\n",
            " 0.         0.         0.         0.         0.         0.\n",
            " 0.         0.70980394 0.9882353  0.9882353  0.8627451  0.654902\n",
            " 0.11764706 0.         0.         0.3019608  0.9882353  0.9882353\n",
            " 0.23529412 0.         0.         0.         0.         0.\n",
            " 0.         0.         0.         0.         0.         0.\n",
            " 0.         0.         0.         0.         0.         0.10196079\n",
            " 0.5019608  0.22745098 0.08627451 0.         0.         0.\n",
            " 0.         0.39215687 0.9882353  0.9882353  0.23529412 0.\n",
            " 0.         0.         0.         0.         0.         0.\n",
            " 0.         0.         0.         0.         0.         0.\n",
            " 0.         0.         0.         0.         0.         0.\n",
            " 0.         0.         0.         0.         0.         0.6156863\n",
            " 0.9882353  0.9882353  0.23529412 0.         0.         0.\n",
            " 0.         0.         0.         0.         0.         0.\n",
            " 0.         0.         0.         0.         0.         0.\n",
            " 0.         0.         0.         0.         0.         0.43137255\n",
            " 0.4745098  0.47843137 0.4745098  0.7921569  0.9882353  0.7607843\n",
            " 0.01176471 0.         0.         0.         0.         0.\n",
            " 0.         0.         0.         0.         0.         0.\n",
            " 0.         0.         0.         0.         0.         0.\n",
            " 0.03921569 0.20784314 0.7019608  0.99215686 0.99215686 1.\n",
            " 0.99215686 0.99215686 0.89411765 0.13725491 0.         0.\n",
            " 0.         0.         0.         0.         0.         0.\n",
            " 0.         0.         0.         0.         0.         0.\n",
            " 0.         0.         0.01960784 0.21176471 0.8901961  0.9882353\n",
            " 0.9529412  0.89411765 0.6666667  0.9490196  0.9882353  0.9882353\n",
            " 0.90588236 0.45882353 0.02352941 0.         0.         0.\n",
            " 0.         0.         0.         0.         0.         0.\n",
            " 0.         0.         0.         0.         0.         0.02352941\n",
            " 0.30588236 0.9882353  0.9882353  0.49019608 0.23137255 0.\n",
            " 0.07058824 0.8156863  0.9882353  0.9882353  0.9882353  0.9882353\n",
            " 0.34117648 0.02745098 0.         0.         0.         0.\n",
            " 0.         0.         0.         0.         0.         0.\n",
            " 0.         0.         0.01960784 0.5294118  0.9882353  0.9882353\n",
            " 0.7058824  0.0627451  0.         0.08235294 0.79607844 0.99215686\n",
            " 0.96862745 0.5058824  0.6784314  0.9882353  0.9882353  0.72156864\n",
            " 0.25882354 0.19215687 0.19215687 0.         0.         0.\n",
            " 0.         0.         0.         0.         0.         0.01176471\n",
            " 0.53333336 0.9882353  0.94509804 0.41568628 0.06666667 0.\n",
            " 0.20784314 0.78431374 0.9882353  0.84705883 0.25490198 0.\n",
            " 0.05490196 0.28235295 0.6392157  0.94509804 0.9882353  0.9882353\n",
            " 0.8745098  0.         0.         0.         0.         0.\n",
            " 0.         0.         0.         0.4117647  0.9882353  0.9490196\n",
            " 0.34509805 0.07058824 0.28627452 0.6666667  0.95686275 0.9882353\n",
            " 0.49411765 0.11372549 0.         0.         0.         0.\n",
            " 0.         0.34901962 0.7058824  0.7058824  0.14509805 0.\n",
            " 0.         0.         0.         0.         0.         0.\n",
            " 0.         0.90588236 0.9882353  0.9607843  0.8039216  0.84705883\n",
            " 0.9882353  0.9882353  0.9882353  0.4862745  0.01176471 0.\n",
            " 0.         0.         0.         0.         0.         0.\n",
            " 0.         0.         0.         0.         0.         0.\n",
            " 0.         0.         0.         0.         0.         0.8117647\n",
            " 0.9882353  0.9882353  0.9882353  0.9882353  0.69803923 0.45490196\n",
            " 0.14117648 0.01568628 0.         0.         0.         0.\n",
            " 0.         0.         0.         0.         0.         0.\n",
            " 0.         0.         0.         0.         0.         0.\n",
            " 0.         0.         0.         0.05098039 0.3647059  0.56078434\n",
            " 0.4745098  0.09019608 0.02352941 0.         0.         0.\n",
            " 0.         0.         0.         0.         0.         0.\n",
            " 0.         0.         0.         0.         0.         0.\n",
            " 0.         0.         0.         0.         0.         0.\n",
            " 0.         0.         0.         0.         0.         0.\n",
            " 0.         0.         0.         0.         0.         0.\n",
            " 0.         0.         0.         0.         0.         0.\n",
            " 0.         0.         0.         0.         0.         0.\n",
            " 0.         0.         0.         0.         0.         0.\n",
            " 0.         0.         0.         0.         0.         0.\n",
            " 0.         0.         0.         0.         0.         0.\n",
            " 0.         0.         0.         0.         0.         0.\n",
            " 0.         0.         0.         0.         0.         0.\n",
            " 0.         0.         0.         0.         0.         0.\n",
            " 0.         0.         0.         0.         0.         0.\n",
            " 0.         0.         0.         0.         0.         0.\n",
            " 0.         0.         0.         0.         0.         0.\n",
            " 0.         0.         0.         0.         0.         0.\n",
            " 0.         0.         0.         0.         0.         0.\n",
            " 0.         0.         0.         0.         0.         0.\n",
            " 0.         0.         0.         0.         0.         0.\n",
            " 0.         0.         0.         0.         0.         0.\n",
            " 0.         0.         0.         0.         0.         0.\n",
            " 0.         0.         0.         0.         0.         0.\n",
            " 0.         0.         0.         0.         0.         0.\n",
            " 0.         0.         0.         0.         0.         0.\n",
            " 0.         0.         0.         0.        ]\n"
          ]
        }
      ]
    },
    {
      "cell_type": "code",
      "source": [
        "print(y_train.shape)\n",
        "print(y_test.shape)"
      ],
      "metadata": {
        "colab": {
          "base_uri": "https://localhost:8080/"
        },
        "id": "i49PUHjy4sVe",
        "outputId": "9ab969c1-c68c-459b-f830-d665fb799383"
      },
      "execution_count": 17,
      "outputs": [
        {
          "output_type": "stream",
          "name": "stdout",
          "text": [
            "(60000,)\n",
            "(10000,)\n"
          ]
        }
      ]
    },
    {
      "cell_type": "code",
      "source": [
        "# Converting the target value into 10 bins. So we will see that the output from a model will then go into one of these bins\n",
        "y_train= to_categorical(y_train,10)\n",
        "y_test=to_categorical(y_test,10)\n",
        "print(y_train.shape)\n",
        "print(y_test.shape)"
      ],
      "metadata": {
        "colab": {
          "base_uri": "https://localhost:8080/"
        },
        "id": "D0edVUh64sct",
        "outputId": "5b742879-d804-4593-9ffb-03c0e4aff7ba"
      },
      "execution_count": 18,
      "outputs": [
        {
          "output_type": "stream",
          "name": "stdout",
          "text": [
            "(60000, 10)\n",
            "(10000, 10)\n"
          ]
        }
      ]
    },
    {
      "cell_type": "code",
      "source": [
        "# Building the model\n",
        "\n",
        "model=Sequential()\n",
        "model.add(Dense(512, activation='relu', input_shape=(784,)))\n",
        "model.add(Dense(512, activation='relu'))\n",
        "model.add(Dense(10, activation='softmax'))"
      ],
      "metadata": {
        "id": "nzXdq7lV5RrN"
      },
      "execution_count": 19,
      "outputs": []
    },
    {
      "cell_type": "code",
      "source": [
        "# Compile the model\n",
        "model.compile(optimizer='adam', loss='categorical_crossentropy', metrics=['accuracy'])\n",
        "model.summary()"
      ],
      "metadata": {
        "colab": {
          "base_uri": "https://localhost:8080/"
        },
        "id": "0hsN5kT85X12",
        "outputId": "893a5d9b-34c4-47a4-dd6f-687a9a368c58"
      },
      "execution_count": 20,
      "outputs": [
        {
          "output_type": "stream",
          "name": "stdout",
          "text": [
            "Model: \"sequential\"\n",
            "_________________________________________________________________\n",
            " Layer (type)                Output Shape              Param #   \n",
            "=================================================================\n",
            " dense (Dense)               (None, 512)               401920    \n",
            "                                                                 \n",
            " dense_1 (Dense)             (None, 512)               262656    \n",
            "                                                                 \n",
            " dense_2 (Dense)             (None, 10)                5130      \n",
            "                                                                 \n",
            "=================================================================\n",
            "Total params: 669,706\n",
            "Trainable params: 669,706\n",
            "Non-trainable params: 0\n",
            "_________________________________________________________________\n"
          ]
        }
      ]
    },
    {
      "cell_type": "code",
      "source": [
        "# Total no of nodes*total umber of weights + Total number of bias\n",
        "\n",
        "784*512 +512"
      ],
      "metadata": {
        "colab": {
          "base_uri": "https://localhost:8080/"
        },
        "id": "ATJuqdiM5X4L",
        "outputId": "4ef07cc8-ffa2-4b4c-c7f8-521809c8daa4"
      },
      "execution_count": 21,
      "outputs": [
        {
          "output_type": "execute_result",
          "data": {
            "text/plain": [
              "401920"
            ]
          },
          "metadata": {},
          "execution_count": 21
        }
      ]
    },
    {
      "cell_type": "code",
      "source": [
        "512*512+512"
      ],
      "metadata": {
        "colab": {
          "base_uri": "https://localhost:8080/"
        },
        "id": "d5hIO1YS5X7r",
        "outputId": "857d5edb-3f1e-44d0-f92b-04aa3958f693"
      },
      "execution_count": 22,
      "outputs": [
        {
          "output_type": "execute_result",
          "data": {
            "text/plain": [
              "262656"
            ]
          },
          "metadata": {},
          "execution_count": 22
        }
      ]
    },
    {
      "cell_type": "code",
      "source": [
        "512*10+10"
      ],
      "metadata": {
        "colab": {
          "base_uri": "https://localhost:8080/"
        },
        "id": "1pQmC-_651go",
        "outputId": "aca4dd44-872a-4ffb-dbaa-a8abc83054de"
      },
      "execution_count": 23,
      "outputs": [
        {
          "output_type": "execute_result",
          "data": {
            "text/plain": [
              "5130"
            ]
          },
          "metadata": {},
          "execution_count": 23
        }
      ]
    },
    {
      "cell_type": "code",
      "source": [
        "# Model training\n",
        "history= model.fit(X_train, y_train, epochs=15, validation_data=(X_test, y_test))"
      ],
      "metadata": {
        "colab": {
          "base_uri": "https://localhost:8080/"
        },
        "id": "4c_wtQUG8hY8",
        "outputId": "21e5b5e9-e999-4506-9dc0-9103ad260fb2"
      },
      "execution_count": 24,
      "outputs": [
        {
          "output_type": "stream",
          "name": "stdout",
          "text": [
            "Epoch 1/15\n",
            "1875/1875 [==============================] - 19s 10ms/step - loss: 0.1827 - accuracy: 0.9448 - val_loss: 0.0906 - val_accuracy: 0.9714\n",
            "Epoch 2/15\n",
            "1875/1875 [==============================] - 18s 10ms/step - loss: 0.0788 - accuracy: 0.9755 - val_loss: 0.0783 - val_accuracy: 0.9750\n",
            "Epoch 3/15\n",
            "1875/1875 [==============================] - 17s 9ms/step - loss: 0.0542 - accuracy: 0.9826 - val_loss: 0.0713 - val_accuracy: 0.9783\n",
            "Epoch 4/15\n",
            "1875/1875 [==============================] - 18s 10ms/step - loss: 0.0434 - accuracy: 0.9865 - val_loss: 0.1046 - val_accuracy: 0.9732\n",
            "Epoch 5/15\n",
            "1875/1875 [==============================] - 18s 9ms/step - loss: 0.0349 - accuracy: 0.9889 - val_loss: 0.0710 - val_accuracy: 0.9807\n",
            "Epoch 6/15\n",
            "1875/1875 [==============================] - 17s 9ms/step - loss: 0.0282 - accuracy: 0.9915 - val_loss: 0.0862 - val_accuracy: 0.9786\n",
            "Epoch 7/15\n",
            "1875/1875 [==============================] - 17s 9ms/step - loss: 0.0250 - accuracy: 0.9919 - val_loss: 0.0909 - val_accuracy: 0.9779\n",
            "Epoch 8/15\n",
            "1875/1875 [==============================] - 18s 9ms/step - loss: 0.0210 - accuracy: 0.9935 - val_loss: 0.0858 - val_accuracy: 0.9819\n",
            "Epoch 9/15\n",
            "1875/1875 [==============================] - 17s 9ms/step - loss: 0.0206 - accuracy: 0.9937 - val_loss: 0.1135 - val_accuracy: 0.9767\n",
            "Epoch 10/15\n",
            "1875/1875 [==============================] - 18s 10ms/step - loss: 0.0175 - accuracy: 0.9946 - val_loss: 0.0970 - val_accuracy: 0.9812\n",
            "Epoch 11/15\n",
            "1875/1875 [==============================] - 18s 9ms/step - loss: 0.0163 - accuracy: 0.9951 - val_loss: 0.0919 - val_accuracy: 0.9816\n",
            "Epoch 12/15\n",
            "1875/1875 [==============================] - 17s 9ms/step - loss: 0.0189 - accuracy: 0.9948 - val_loss: 0.1028 - val_accuracy: 0.9808\n",
            "Epoch 13/15\n",
            "1875/1875 [==============================] - 17s 9ms/step - loss: 0.0151 - accuracy: 0.9956 - val_loss: 0.0993 - val_accuracy: 0.9804\n",
            "Epoch 14/15\n",
            "1875/1875 [==============================] - 17s 9ms/step - loss: 0.0138 - accuracy: 0.9962 - val_loss: 0.0965 - val_accuracy: 0.9830\n",
            "Epoch 15/15\n",
            "1875/1875 [==============================] - 18s 9ms/step - loss: 0.0134 - accuracy: 0.9959 - val_loss: 0.1313 - val_accuracy: 0.9804\n"
          ]
        }
      ]
    },
    {
      "cell_type": "code",
      "source": [
        "plt.plot(history.history['accuracy'])"
      ],
      "metadata": {
        "colab": {
          "base_uri": "https://localhost:8080/",
          "height": 282
        },
        "id": "4cmDusBD8hkn",
        "outputId": "0eea4ef2-3337-4eca-9e8a-110671c207a2"
      },
      "execution_count": 25,
      "outputs": [
        {
          "output_type": "execute_result",
          "data": {
            "text/plain": [
              "[<matplotlib.lines.Line2D at 0x7f93a2b7ba50>]"
            ]
          },
          "metadata": {},
          "execution_count": 25
        },
        {
          "output_type": "display_data",
          "data": {
            "text/plain": [
              "<Figure size 432x288 with 1 Axes>"
            ],
            "image/png": "[encoded data removed]"
          },
          "metadata": {
            "needs_background": "light"
          }
        }
      ]
    },
    {
      "cell_type": "code",
      "source": [
        "score= model.evaluate(X_test, y_test)"
      ],
      "metadata": {
        "colab": {
          "base_uri": "https://localhost:8080/"
        },
        "id": "qXeuQ2VQ_OUH",
        "outputId": "1be3913c-f1ca-45cd-e7dc-6080a81819b7"
      },
      "execution_count": 26,
      "outputs": [
        {
          "output_type": "stream",
          "name": "stdout",
          "text": [
            "313/313 [==============================] - 1s 4ms/step - loss: 0.1313 - accuracy: 0.9804\n"
          ]
        }
      ]
    },
    {
      "cell_type": "code",
      "source": [
        "from keras.layers import Conv2D, MaxPooling2D, Flatten, Dense\n",
        "from keras.models import Sequential\n",
        "from keras.datasets import mnist\n",
        "from keras.utils.np_utils import to_categorical"
      ],
      "metadata": {
        "id": "AveLW4_O_e7h"
      },
      "execution_count": 36,
      "outputs": []
    },
    {
      "cell_type": "code",
      "source": [
        "(X_train, y_train),(X_test, y_test)= mnist.load_data()"
      ],
      "metadata": {
        "id": "gMbzAgbO_gZd"
      },
      "execution_count": 37,
      "outputs": []
    },
    {
      "cell_type": "code",
      "source": [
        "print(X_train.shape)\n",
        "print(y_train.shape)\n",
        "print(X_test.shape)\n",
        "print(y_test.shape)"
      ],
      "metadata": {
        "colab": {
          "base_uri": "https://localhost:8080/"
        },
        "id": "kgz17d3C_oZg",
        "outputId": "fb9ae03b-cc9a-48da-e8f4-77ceb455299b"
      },
      "execution_count": 38,
      "outputs": [
        {
          "output_type": "stream",
          "name": "stdout",
          "text": [
            "(60000, 28, 28)\n",
            "(60000,)\n",
            "(10000, 28, 28)\n",
            "(10000,)\n"
          ]
        }
      ]
    },
    {
      "cell_type": "code",
      "source": [
        "X_train= X_train.reshape(60000,28,28,1)\n",
        "X_test= X_test.reshape(10000,28,28,1)\n",
        "X_train=X_train.astype('float32')\n",
        "X_test=X_test.astype('float32')\n",
        "X_train/=255.0\n",
        "X_test/=255.0\n",
        "\n",
        "y_train= to_categorical(y_train,10)\n",
        "y_test= to_categorical(y_test,10)"
      ],
      "metadata": {
        "id": "dTP_QxWQ_qYk"
      },
      "execution_count": 39,
      "outputs": []
    },
    {
      "cell_type": "code",
      "source": [
        "print(X_train.shape)\n",
        "print(y_train.shape)\n",
        "print(X_test.shape)\n",
        "print(y_test.shape)"
      ],
      "metadata": {
        "colab": {
          "base_uri": "https://localhost:8080/"
        },
        "id": "0tDAlVnT_q3V",
        "outputId": "3ef649b0-2585-4c27-d729-e2e1e3902832"
      },
      "execution_count": 40,
      "outputs": [
        {
          "output_type": "stream",
          "name": "stdout",
          "text": [
            "(60000, 28, 28, 1)\n",
            "(60000, 10)\n",
            "(10000, 28, 28, 1)\n",
            "(10000, 10)\n"
          ]
        }
      ]
    },
    {
      "cell_type": "code",
      "source": [
        "# CNN model development\n",
        "\n",
        "cnn=Sequential()\n",
        "cnn.add(Conv2D(32, kernel_size=(3,3), input_shape=(28,28,1), padding='same', activation='relu'))\n",
        "cnn.add(MaxPooling2D())\n",
        "cnn.add(Conv2D(32, kernel_size=(3,3), padding='same', activation='relu'))\n",
        "cnn.add(MaxPooling2D())\n",
        "cnn.add(Flatten())\n",
        "cnn.add(Dense(64, activation='relu'))\n",
        "cnn.add(Dense(10, activation='softmax'))\n",
        "cnn.compile(optimizer='adam', loss='categorical_crossentropy', metrics=['accuracy'])\n",
        "print(cnn.summary())"
      ],
      "metadata": {
        "colab": {
          "base_uri": "https://localhost:8080/"
        },
        "id": "CjWmMLSY_4g5",
        "outputId": "a9b66d35-7d62-4bb7-869e-b36cec8afc2a"
      },
      "execution_count": 41,
      "outputs": [
        {
          "output_type": "stream",
          "name": "stdout",
          "text": [
            "Model: \"sequential_2\"\n",
            "_________________________________________________________________\n",
            " Layer (type)                Output Shape              Param #   \n",
            "=================================================================\n",
            " conv2d_2 (Conv2D)           (None, 28, 28, 32)        320       \n",
            "                                                                 \n",
            " max_pooling2d_2 (MaxPooling  (None, 14, 14, 32)       0         \n",
            " 2D)                                                             \n",
            "                                                                 \n",
            " conv2d_3 (Conv2D)           (None, 14, 14, 32)        9248      \n",
            "                                                                 \n",
            " max_pooling2d_3 (MaxPooling  (None, 7, 7, 32)         0         \n",
            " 2D)                                                             \n",
            "                                                                 \n",
            " flatten_1 (Flatten)         (None, 1568)              0         \n",
            "                                                                 \n",
            " dense_5 (Dense)             (None, 64)                100416    \n",
            "                                                                 \n",
            " dense_6 (Dense)             (None, 10)                650       \n",
            "                                                                 \n",
            "=================================================================\n",
            "Total params: 110,634\n",
            "Trainable params: 110,634\n",
            "Non-trainable params: 0\n",
            "_________________________________________________________________\n",
            "None\n"
          ]
        }
      ]
    },
    {
      "cell_type": "code",
      "source": [
        "history_cnn= cnn.fit(X_train, y_train, epochs=12, verbose=1, validation_data=(X_train, y_train))"
      ],
      "metadata": {
        "colab": {
          "base_uri": "https://localhost:8080/"
        },
        "id": "ZG5LHLgFAEa2",
        "outputId": "1fd747eb-332e-499d-8152-585856ddf3e5"
      },
      "execution_count": 42,
      "outputs": [
        {
          "output_type": "stream",
          "name": "stdout",
          "text": [
            "Epoch 1/12\n",
            "1875/1875 [==============================] - 78s 41ms/step - loss: 0.1510 - accuracy: 0.9542 - val_loss: 0.0564 - val_accuracy: 0.9823\n",
            "Epoch 2/12\n",
            "1875/1875 [==============================] - 79s 42ms/step - loss: 0.0488 - accuracy: 0.9847 - val_loss: 0.0281 - val_accuracy: 0.9911\n",
            "Epoch 3/12\n",
            "1875/1875 [==============================] - 79s 42ms/step - loss: 0.0345 - accuracy: 0.9893 - val_loss: 0.0206 - val_accuracy: 0.9940\n",
            "Epoch 4/12\n",
            "1875/1875 [==============================] - 80s 42ms/step - loss: 0.0250 - accuracy: 0.9921 - val_loss: 0.0158 - val_accuracy: 0.9948\n",
            "Epoch 5/12\n",
            "1875/1875 [==============================] - 81s 43ms/step - loss: 0.0195 - accuracy: 0.9939 - val_loss: 0.0170 - val_accuracy: 0.9947\n",
            "Epoch 6/12\n",
            "1875/1875 [==============================] - 80s 43ms/step - loss: 0.0158 - accuracy: 0.9949 - val_loss: 0.0100 - val_accuracy: 0.9969\n",
            "Epoch 7/12\n",
            "1875/1875 [==============================] - 81s 43ms/step - loss: 0.0119 - accuracy: 0.9961 - val_loss: 0.0077 - val_accuracy: 0.9975\n",
            "Epoch 8/12\n",
            "1875/1875 [==============================] - 81s 43ms/step - loss: 0.0111 - accuracy: 0.9963 - val_loss: 0.0043 - val_accuracy: 0.9989\n",
            "Epoch 9/12\n",
            "1875/1875 [==============================] - 81s 43ms/step - loss: 0.0083 - accuracy: 0.9973 - val_loss: 0.0043 - val_accuracy: 0.9985\n",
            "Epoch 10/12\n",
            "1875/1875 [==============================] - 82s 43ms/step - loss: 0.0088 - accuracy: 0.9968 - val_loss: 0.0048 - val_accuracy: 0.9982\n",
            "Epoch 11/12\n",
            "1875/1875 [==============================] - 81s 43ms/step - loss: 0.0052 - accuracy: 0.9983 - val_loss: 0.0044 - val_accuracy: 0.9987\n",
            "Epoch 12/12\n",
            "1875/1875 [==============================] - 82s 44ms/step - loss: 0.0064 - accuracy: 0.9977 - val_loss: 0.0036 - val_accuracy: 0.9988\n"
          ]
        }
      ]
    },
    {
      "cell_type": "code",
      "source": [
        "plt.plot(history_cnn.history['accuracy'])"
      ],
      "metadata": {
        "colab": {
          "base_uri": "https://localhost:8080/",
          "height": 284
        },
        "id": "t6aejZnPEsb-",
        "outputId": "749fbc6f-8197-4f83-9abb-92cf1fdcd5c3"
      },
      "execution_count": 43,
      "outputs": [
        {
          "output_type": "execute_result",
          "data": {
            "text/plain": [
              "[<matplotlib.lines.Line2D at 0x7f93a2711f50>]"
            ]
          },
          "metadata": {},
          "execution_count": 43
        },
        {
          "output_type": "display_data",
          "data": {
            "text/plain": [
              "<Figure size 432x288 with 1 Axes>"
            ],
            "image/png": "[encoded data removed]"
          },
          "metadata": {
            "needs_background": "light"
          }
        }
      ]
    },
    {
      "cell_type": "code",
      "source": [
        "plt.plot(history_cnn.history['val_accuracy'])"
      ],
      "metadata": {
        "colab": {
          "base_uri": "https://localhost:8080/",
          "height": 282
        },
        "id": "twSZTEwrE2ia",
        "outputId": "c174f530-6d70-409c-bc77-dc44fb340043"
      },
      "execution_count": 44,
      "outputs": [
        {
          "output_type": "execute_result",
          "data": {
            "text/plain": [
              "[<matplotlib.lines.Line2D at 0x7f93a267b7d0>]"
            ]
          },
          "metadata": {},
          "execution_count": 44
        },
        {
          "output_type": "display_data",
          "data": {
            "text/plain": [
              "<Figure size 432x288 with 1 Axes>"
            ],
            "image/png": "[encoded data removed]"
          },
          "metadata": {
            "needs_background": "light"
          }
        }
      ]
    }
  ]
}